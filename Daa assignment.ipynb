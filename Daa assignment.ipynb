{
 "cells": [
  {
   "cell_type": "code",
   "execution_count": 1,
   "metadata": {},
   "outputs": [],
   "source": [
    "from collections import deque\n",
    "\n",
    "AdjList = []\n",
    "def init_trie(keywords):\n",
    "#     creates a trie of keywords and sets fail transitions\n",
    "    create_empty_trie()\n",
    "    add_keywords(keywords)\n",
    "    set_fail_transitions()\n",
    "\n",
    "def create_empty_trie():\n",
    "#     initalize the root of the trie\n",
    "    AdjList.append({'value':'', 'next_states':[],'fail_state':0,'output':[]})\n",
    "\n",
    "    \n",
    "def add_keywords(keywords):\n",
    "#     add all keywords in list of keywords \n",
    "    for keyword in keywords:\n",
    "        add_keyword(keyword)"
   ]
  },
  {
   "cell_type": "code",
   "execution_count": 2,
   "metadata": {},
   "outputs": [],
   "source": [
    " def find_next_state(current_state, value):\n",
    "    for node in AdjList[current_state][\"next_states\"]:\n",
    "        if AdjList[node][\"value\"] == value:\n",
    "            return node\n",
    "    return None"
   ]
  },
  {
   "cell_type": "code",
   "execution_count": 3,
   "metadata": {},
   "outputs": [],
   "source": [
    "def add_keyword(keyword):\n",
    "#   add a keyword to the trie and mark output at the last node\n",
    "    current_state = 0\n",
    "    j = 0\n",
    "    keyword = keyword.lower()\n",
    "    child = find_next_state(current_state, keyword[j])\n",
    "    while child != None:\n",
    "        current_state = child\n",
    "        j = j + 1\n",
    "        if j < len(keyword):\n",
    "            child = find_next_state(current_state, keyword[j])\n",
    "        else:\n",
    "            break\n",
    "    for i in range(j, len(keyword)):\n",
    "        node = {'value':keyword[i],'next_states':[],'fail_state':0,'output':[]}\n",
    "        AdjList.append(node)\n",
    "        AdjList[current_state][\"next_states\"].append(len(AdjList) - 1)\n",
    "        current_state = len(AdjList) - 1\n",
    "    AdjList[current_state][\"output\"].append(keyword)"
   ]
  },
  {
   "cell_type": "code",
   "execution_count": 4,
   "metadata": {},
   "outputs": [],
   "source": [
    "def set_fail_transitions():\n",
    "    q = deque()\n",
    "    child = 0\n",
    "#   below for loop sets nextstate of the nextstates of the root node to root node itself\n",
    "#   bfs starts here\n",
    "    for node in AdjList[0][\"next_states\"]:\n",
    "        q.append(node)\n",
    "        AdjList[node][\"fail_state\"] = 0\n",
    "    while q:\n",
    "        r = q.popleft()\n",
    "        for child in AdjList[r][\"next_states\"]:\n",
    "            q.append(child)\n",
    "            state = AdjList[r][\"fail_state\"]\n",
    "            while find_next_state(state, AdjList[child][\"value\"]) == None and state != 0:\n",
    "                state = AdjList[state][\"fail_state\"]\n",
    "            AdjList[child][\"fail_state\"] = find_next_state(state,AdjList[child][\"value\"])\n",
    "            if AdjList[child][\"fail_state\"] is None:\n",
    "                AdjList[child][\"fail_state\"] = 0\n",
    "            AdjList[child][\"output\"] = AdjList[child][\"output\"] + AdjList[AdjList[child][\"fail_state\"]][\"output\"]"
   ]
  },
  {
   "cell_type": "code",
   "execution_count": 5,
   "metadata": {},
   "outputs": [],
   "source": [
    "def get_keywords_found(line):\n",
    "#   returns true if line contains any keywords in trie\n",
    "    line = line.lower()\n",
    "    current_state = 0\n",
    "    keywords_found = []\n",
    "    for i in range(len(line)):\n",
    "        while find_next_state(current_state, line[i]) is None and current_state != 0:\n",
    "            current_state = AdjList[current_state][\"fail_state\"]\n",
    "        current_state = find_next_state(current_state, line[i])\n",
    "        if current_state is None:\n",
    "            current_state = 0\n",
    "        else:\n",
    "            for j in AdjList[current_state][\"output\"]:\n",
    "                keywords_found.append({\"index\":i-len(j) + 1,\"word\":j})\n",
    "    for i in keywords_found:\n",
    "        print(f\"{i['word']} found at index {i['index']}\")"
   ]
  },
  {
   "cell_type": "code",
   "execution_count": 6,
   "metadata": {},
   "outputs": [
    {
     "name": "stdout",
     "output_type": "stream",
     "text": [
      "cash found at index 0\n",
      "shew found at index 2\n",
      "ew found at index 4\n"
     ]
    }
   ],
   "source": [
    "# Test case 1\n",
    "init_trie(['cash', 'shew', 'ew'])\n",
    "get_keywords_found(\"cashew\")"
   ]
  },
  {
   "cell_type": "code",
   "execution_count": 7,
   "metadata": {},
   "outputs": [
    {
     "name": "stdout",
     "output_type": "stream",
     "text": [
      "a found at index 0\n",
      "ab found at index 0\n",
      "bc found at index 1\n",
      "c found at index 2\n",
      "c found at index 3\n",
      "a found at index 4\n",
      "ab found at index 4\n"
     ]
    }
   ],
   "source": [
    "# Test case 2\n",
    "init_trie(['a','ab','bc','bca','c','caa'])\n",
    "get_keywords_found(\"abccab\")"
   ]
  },
  {
   "cell_type": "code",
   "execution_count": 8,
   "metadata": {},
   "outputs": [
    {
     "name": "stdout",
     "output_type": "stream",
     "text": [
      "his found at index 0\n",
      "she found at index 2\n",
      "he found at index 3\n",
      "hers found at index 3\n"
     ]
    }
   ],
   "source": [
    "# Test case 3\n",
    "init_trie([\"he\", \"she\", \"hers\", \"his\"])\n",
    "get_keywords_found(\"hishers\")"
   ]
  },
  {
   "cell_type": "code",
   "execution_count": null,
   "metadata": {},
   "outputs": [],
   "source": []
  }
 ],
 "metadata": {
  "kernelspec": {
   "display_name": "Python 3",
   "language": "python",
   "name": "python3"
  },
  "language_info": {
   "codemirror_mode": {
    "name": "ipython",
    "version": 3
   },
   "file_extension": ".py",
   "mimetype": "text/x-python",
   "name": "python",
   "nbconvert_exporter": "python",
   "pygments_lexer": "ipython3",
   "version": "3.7.3"
  }
 },
 "nbformat": 4,
 "nbformat_minor": 2
}
